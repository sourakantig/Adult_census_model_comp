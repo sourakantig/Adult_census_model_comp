{
 "cells": [
  {
   "cell_type": "code",
   "execution_count": 1,
   "id": "68d5467c",
   "metadata": {
    "_cell_guid": "b1076dfc-b9ad-4769-8c92-a6c4dae69d19",
    "_uuid": "8f2839f25d086af736a60e9eeb907d3b93b6e0e5",
    "execution": {
     "iopub.execute_input": "2022-05-02T19:18:50.064857Z",
     "iopub.status.busy": "2022-05-02T19:18:50.064251Z",
     "iopub.status.idle": "2022-05-02T19:18:50.084918Z",
     "shell.execute_reply": "2022-05-02T19:18:50.084248Z"
    },
    "papermill": {
     "duration": 0.054667,
     "end_time": "2022-05-02T19:18:50.087580",
     "exception": false,
     "start_time": "2022-05-02T19:18:50.032913",
     "status": "completed"
    },
    "tags": []
   },
   "outputs": [],
   "source": [
    "import numpy as np\n",
    "import pandas as pd \n"
   ]
  },
  {
   "cell_type": "code",
   "execution_count": 2,
   "id": "aeb0f20a",
   "metadata": {
    "execution": {
     "iopub.execute_input": "2022-05-02T19:18:50.147076Z",
     "iopub.status.busy": "2022-05-02T19:18:50.146499Z",
     "iopub.status.idle": "2022-05-02T19:18:50.322344Z",
     "shell.execute_reply": "2022-05-02T19:18:50.321314Z"
    },
    "papermill": {
     "duration": 0.209083,
     "end_time": "2022-05-02T19:18:50.326474",
     "exception": false,
     "start_time": "2022-05-02T19:18:50.117391",
     "status": "completed"
    },
    "tags": []
   },
   "outputs": [
    {
     "data": {
      "text/html": [
       "<div>\n",
       "<style scoped>\n",
       "    .dataframe tbody tr th:only-of-type {\n",
       "        vertical-align: middle;\n",
       "    }\n",
       "\n",
       "    .dataframe tbody tr th {\n",
       "        vertical-align: top;\n",
       "    }\n",
       "\n",
       "    .dataframe thead th {\n",
       "        text-align: right;\n",
       "    }\n",
       "</style>\n",
       "<table border=\"1\" class=\"dataframe\">\n",
       "  <thead>\n",
       "    <tr style=\"text-align: right;\">\n",
       "      <th></th>\n",
       "      <th>age</th>\n",
       "      <th>workclass</th>\n",
       "      <th>fnlwgt</th>\n",
       "      <th>education</th>\n",
       "      <th>education.num</th>\n",
       "      <th>marital.status</th>\n",
       "      <th>occupation</th>\n",
       "      <th>relationship</th>\n",
       "      <th>race</th>\n",
       "      <th>sex</th>\n",
       "      <th>capital.gain</th>\n",
       "      <th>capital.loss</th>\n",
       "      <th>hours.per.week</th>\n",
       "      <th>native.country</th>\n",
       "      <th>income</th>\n",
       "    </tr>\n",
       "  </thead>\n",
       "  <tbody>\n",
       "    <tr>\n",
       "      <th>0</th>\n",
       "      <td>90</td>\n",
       "      <td>?</td>\n",
       "      <td>77053</td>\n",
       "      <td>HS-grad</td>\n",
       "      <td>9</td>\n",
       "      <td>Widowed</td>\n",
       "      <td>?</td>\n",
       "      <td>Not-in-family</td>\n",
       "      <td>White</td>\n",
       "      <td>Female</td>\n",
       "      <td>0</td>\n",
       "      <td>4356</td>\n",
       "      <td>40</td>\n",
       "      <td>United-States</td>\n",
       "      <td>&lt;=50K</td>\n",
       "    </tr>\n",
       "    <tr>\n",
       "      <th>1</th>\n",
       "      <td>82</td>\n",
       "      <td>Private</td>\n",
       "      <td>132870</td>\n",
       "      <td>HS-grad</td>\n",
       "      <td>9</td>\n",
       "      <td>Widowed</td>\n",
       "      <td>Exec-managerial</td>\n",
       "      <td>Not-in-family</td>\n",
       "      <td>White</td>\n",
       "      <td>Female</td>\n",
       "      <td>0</td>\n",
       "      <td>4356</td>\n",
       "      <td>18</td>\n",
       "      <td>United-States</td>\n",
       "      <td>&lt;=50K</td>\n",
       "    </tr>\n",
       "    <tr>\n",
       "      <th>2</th>\n",
       "      <td>66</td>\n",
       "      <td>?</td>\n",
       "      <td>186061</td>\n",
       "      <td>Some-college</td>\n",
       "      <td>10</td>\n",
       "      <td>Widowed</td>\n",
       "      <td>?</td>\n",
       "      <td>Unmarried</td>\n",
       "      <td>Black</td>\n",
       "      <td>Female</td>\n",
       "      <td>0</td>\n",
       "      <td>4356</td>\n",
       "      <td>40</td>\n",
       "      <td>United-States</td>\n",
       "      <td>&lt;=50K</td>\n",
       "    </tr>\n",
       "    <tr>\n",
       "      <th>3</th>\n",
       "      <td>54</td>\n",
       "      <td>Private</td>\n",
       "      <td>140359</td>\n",
       "      <td>7th-8th</td>\n",
       "      <td>4</td>\n",
       "      <td>Divorced</td>\n",
       "      <td>Machine-op-inspct</td>\n",
       "      <td>Unmarried</td>\n",
       "      <td>White</td>\n",
       "      <td>Female</td>\n",
       "      <td>0</td>\n",
       "      <td>3900</td>\n",
       "      <td>40</td>\n",
       "      <td>United-States</td>\n",
       "      <td>&lt;=50K</td>\n",
       "    </tr>\n",
       "    <tr>\n",
       "      <th>4</th>\n",
       "      <td>41</td>\n",
       "      <td>Private</td>\n",
       "      <td>264663</td>\n",
       "      <td>Some-college</td>\n",
       "      <td>10</td>\n",
       "      <td>Separated</td>\n",
       "      <td>Prof-specialty</td>\n",
       "      <td>Own-child</td>\n",
       "      <td>White</td>\n",
       "      <td>Female</td>\n",
       "      <td>0</td>\n",
       "      <td>3900</td>\n",
       "      <td>40</td>\n",
       "      <td>United-States</td>\n",
       "      <td>&lt;=50K</td>\n",
       "    </tr>\n",
       "  </tbody>\n",
       "</table>\n",
       "</div>"
      ],
      "text/plain": [
       "   age workclass  fnlwgt     education  education.num marital.status  \\\n",
       "0   90         ?   77053       HS-grad              9        Widowed   \n",
       "1   82   Private  132870       HS-grad              9        Widowed   \n",
       "2   66         ?  186061  Some-college             10        Widowed   \n",
       "3   54   Private  140359       7th-8th              4       Divorced   \n",
       "4   41   Private  264663  Some-college             10      Separated   \n",
       "\n",
       "          occupation   relationship   race     sex  capital.gain  \\\n",
       "0                  ?  Not-in-family  White  Female             0   \n",
       "1    Exec-managerial  Not-in-family  White  Female             0   \n",
       "2                  ?      Unmarried  Black  Female             0   \n",
       "3  Machine-op-inspct      Unmarried  White  Female             0   \n",
       "4     Prof-specialty      Own-child  White  Female             0   \n",
       "\n",
       "   capital.loss  hours.per.week native.country income  \n",
       "0          4356              40  United-States  <=50K  \n",
       "1          4356              18  United-States  <=50K  \n",
       "2          4356              40  United-States  <=50K  \n",
       "3          3900              40  United-States  <=50K  \n",
       "4          3900              40  United-States  <=50K  "
      ]
     },
     "execution_count": 2,
     "metadata": {},
     "output_type": "execute_result"
    }
   ],
   "source": [
    "data = pd.read_csv(\"adult.csv\")\n",
    "data.head()"
   ]
  },
  {
   "cell_type": "code",
   "execution_count": 3,
   "id": "5a42ad66",
   "metadata": {
    "execution": {
     "iopub.execute_input": "2022-05-02T19:18:50.386736Z",
     "iopub.status.busy": "2022-05-02T19:18:50.386384Z",
     "iopub.status.idle": "2022-05-02T19:18:50.447864Z",
     "shell.execute_reply": "2022-05-02T19:18:50.446292Z"
    },
    "papermill": {
     "duration": 0.095283,
     "end_time": "2022-05-02T19:18:50.450707",
     "exception": false,
     "start_time": "2022-05-02T19:18:50.355424",
     "status": "completed"
    },
    "tags": []
   },
   "outputs": [
    {
     "name": "stdout",
     "output_type": "stream",
     "text": [
      "<class 'pandas.core.frame.DataFrame'>\n",
      "RangeIndex: 32561 entries, 0 to 32560\n",
      "Data columns (total 15 columns):\n",
      " #   Column          Non-Null Count  Dtype \n",
      "---  ------          --------------  ----- \n",
      " 0   age             32561 non-null  int64 \n",
      " 1   workclass       32561 non-null  object\n",
      " 2   fnlwgt          32561 non-null  int64 \n",
      " 3   education       32561 non-null  object\n",
      " 4   education.num   32561 non-null  int64 \n",
      " 5   marital.status  32561 non-null  object\n",
      " 6   occupation      32561 non-null  object\n",
      " 7   relationship    32561 non-null  object\n",
      " 8   race            32561 non-null  object\n",
      " 9   sex             32561 non-null  object\n",
      " 10  capital.gain    32561 non-null  int64 \n",
      " 11  capital.loss    32561 non-null  int64 \n",
      " 12  hours.per.week  32561 non-null  int64 \n",
      " 13  native.country  32561 non-null  object\n",
      " 14  income          32561 non-null  object\n",
      "dtypes: int64(6), object(9)\n",
      "memory usage: 3.7+ MB\n",
      "None\n",
      "(32561, 15)\n"
     ]
    }
   ],
   "source": [
    "print(data.info())\n",
    "print(data.shape)"
   ]
  },
  {
   "cell_type": "code",
   "execution_count": 4,
   "id": "5f20d341",
   "metadata": {
    "execution": {
     "iopub.execute_input": "2022-05-02T19:18:50.510987Z",
     "iopub.status.busy": "2022-05-02T19:18:50.510692Z",
     "iopub.status.idle": "2022-05-02T19:18:50.552515Z",
     "shell.execute_reply": "2022-05-02T19:18:50.551593Z"
    },
    "papermill": {
     "duration": 0.074761,
     "end_time": "2022-05-02T19:18:50.554559",
     "exception": false,
     "start_time": "2022-05-02T19:18:50.479798",
     "status": "completed"
    },
    "tags": []
   },
   "outputs": [
    {
     "data": {
      "text/plain": [
       "age               0\n",
       "workclass         0\n",
       "fnlwgt            0\n",
       "education         0\n",
       "education.num     0\n",
       "marital.status    0\n",
       "occupation        0\n",
       "relationship      0\n",
       "race              0\n",
       "sex               0\n",
       "capital.gain      0\n",
       "capital.loss      0\n",
       "hours.per.week    0\n",
       "native.country    0\n",
       "income            0\n",
       "dtype: int64"
      ]
     },
     "execution_count": 4,
     "metadata": {},
     "output_type": "execute_result"
    }
   ],
   "source": [
    "data.isnull().sum()"
   ]
  },
  {
   "cell_type": "markdown",
   "id": "616c4393",
   "metadata": {
    "papermill": {
     "duration": 0.028645,
     "end_time": "2022-05-02T19:18:50.611335",
     "exception": false,
     "start_time": "2022-05-02T19:18:50.582690",
     "status": "completed"
    },
    "tags": []
   },
   "source": [
    "***There were no empty cells in the datset when i checked but when i saw the dataset i saw there are some values marked as \"?\", so i have to change it to NaN first and then i handled it like empty cells ***"
   ]
  },
  {
   "cell_type": "code",
   "execution_count": 5,
   "id": "5a26a355",
   "metadata": {
    "execution": {
     "iopub.execute_input": "2022-05-02T19:18:50.668967Z",
     "iopub.status.busy": "2022-05-02T19:18:50.668689Z",
     "iopub.status.idle": "2022-05-02T19:18:50.718764Z",
     "shell.execute_reply": "2022-05-02T19:18:50.717759Z"
    },
    "papermill": {
     "duration": 0.081495,
     "end_time": "2022-05-02T19:18:50.720968",
     "exception": false,
     "start_time": "2022-05-02T19:18:50.639473",
     "status": "completed"
    },
    "tags": []
   },
   "outputs": [
    {
     "data": {
      "text/plain": [
       "age                  0\n",
       "workclass         1836\n",
       "fnlwgt               0\n",
       "education            0\n",
       "education.num        0\n",
       "marital.status       0\n",
       "occupation        1843\n",
       "relationship         0\n",
       "race                 0\n",
       "sex                  0\n",
       "capital.gain         0\n",
       "capital.loss         0\n",
       "hours.per.week       0\n",
       "native.country     583\n",
       "income               0\n",
       "dtype: int64"
      ]
     },
     "execution_count": 5,
     "metadata": {},
     "output_type": "execute_result"
    }
   ],
   "source": [
    "data.isin(['?']).sum()"
   ]
  },
  {
   "cell_type": "code",
   "execution_count": 6,
   "id": "35f5581e",
   "metadata": {
    "execution": {
     "iopub.execute_input": "2022-05-02T19:18:50.781975Z",
     "iopub.status.busy": "2022-05-02T19:18:50.781486Z",
     "iopub.status.idle": "2022-05-02T19:18:50.798176Z",
     "shell.execute_reply": "2022-05-02T19:18:50.797389Z"
    },
    "papermill": {
     "duration": 0.048927,
     "end_time": "2022-05-02T19:18:50.800526",
     "exception": false,
     "start_time": "2022-05-02T19:18:50.751599",
     "status": "completed"
    },
    "tags": []
   },
   "outputs": [],
   "source": [
    "data.replace('?', np.nan , inplace=True)"
   ]
  },
  {
   "cell_type": "code",
   "execution_count": 7,
   "id": "84be2b48",
   "metadata": {
    "execution": {
     "iopub.execute_input": "2022-05-02T19:18:50.860086Z",
     "iopub.status.busy": "2022-05-02T19:18:50.859775Z",
     "iopub.status.idle": "2022-05-02T19:18:50.900797Z",
     "shell.execute_reply": "2022-05-02T19:18:50.900027Z"
    },
    "papermill": {
     "duration": 0.073681,
     "end_time": "2022-05-02T19:18:50.902931",
     "exception": false,
     "start_time": "2022-05-02T19:18:50.829250",
     "status": "completed"
    },
    "tags": []
   },
   "outputs": [
    {
     "data": {
      "text/plain": [
       "age                  0\n",
       "workclass         1836\n",
       "fnlwgt               0\n",
       "education            0\n",
       "education.num        0\n",
       "marital.status       0\n",
       "occupation        1843\n",
       "relationship         0\n",
       "race                 0\n",
       "sex                  0\n",
       "capital.gain         0\n",
       "capital.loss         0\n",
       "hours.per.week       0\n",
       "native.country     583\n",
       "income               0\n",
       "dtype: int64"
      ]
     },
     "execution_count": 7,
     "metadata": {},
     "output_type": "execute_result"
    }
   ],
   "source": [
    "data.isnull().sum()"
   ]
  },
  {
   "cell_type": "code",
   "execution_count": 8,
   "id": "99c302c2",
   "metadata": {
    "execution": {
     "iopub.execute_input": "2022-05-02T19:18:50.965348Z",
     "iopub.status.busy": "2022-05-02T19:18:50.965041Z",
     "iopub.status.idle": "2022-05-02T19:18:50.997646Z",
     "shell.execute_reply": "2022-05-02T19:18:50.996605Z"
    },
    "papermill": {
     "duration": 0.06668,
     "end_time": "2022-05-02T19:18:50.999817",
     "exception": false,
     "start_time": "2022-05-02T19:18:50.933137",
     "status": "completed"
    },
    "tags": []
   },
   "outputs": [],
   "source": [
    "data['workclass'] = data['workclass'].fillna(data['workclass'].mode()[0])\n",
    "data['occupation'] = data['occupation'].fillna(data['occupation'].mode()[0])\n",
    "data['native.country'] = data['native.country'].fillna(data['native.country'].mode()[0])"
   ]
  },
  {
   "cell_type": "code",
   "execution_count": 9,
   "id": "42dcdabb",
   "metadata": {
    "execution": {
     "iopub.execute_input": "2022-05-02T19:18:51.059412Z",
     "iopub.status.busy": "2022-05-02T19:18:51.058464Z",
     "iopub.status.idle": "2022-05-02T19:18:51.065572Z",
     "shell.execute_reply": "2022-05-02T19:18:51.064797Z"
    },
    "papermill": {
     "duration": 0.038792,
     "end_time": "2022-05-02T19:18:51.067354",
     "exception": false,
     "start_time": "2022-05-02T19:18:51.028562",
     "status": "completed"
    },
    "tags": []
   },
   "outputs": [
    {
     "data": {
      "text/plain": [
       "age                int64\n",
       "workclass         object\n",
       "fnlwgt             int64\n",
       "education         object\n",
       "education.num      int64\n",
       "marital.status    object\n",
       "occupation        object\n",
       "relationship      object\n",
       "race              object\n",
       "sex               object\n",
       "capital.gain       int64\n",
       "capital.loss       int64\n",
       "hours.per.week     int64\n",
       "native.country    object\n",
       "income            object\n",
       "dtype: object"
      ]
     },
     "execution_count": 9,
     "metadata": {},
     "output_type": "execute_result"
    }
   ],
   "source": [
    "data.dtypes"
   ]
  },
  {
   "cell_type": "markdown",
   "id": "9fd0e295",
   "metadata": {
    "papermill": {
     "duration": 0.029706,
     "end_time": "2022-05-02T19:18:51.126080",
     "exception": false,
     "start_time": "2022-05-02T19:18:51.096374",
     "status": "completed"
    },
    "tags": []
   },
   "source": [
    "***There are some vlaues other than integer also hence we use label encoder to convert it to integer, so that it can be fitted to the model***"
   ]
  },
  {
   "cell_type": "code",
   "execution_count": 10,
   "id": "adf35d78",
   "metadata": {
    "execution": {
     "iopub.execute_input": "2022-05-02T19:18:51.186169Z",
     "iopub.status.busy": "2022-05-02T19:18:51.185492Z",
     "iopub.status.idle": "2022-05-02T19:18:52.318895Z",
     "shell.execute_reply": "2022-05-02T19:18:52.317985Z"
    },
    "papermill": {
     "duration": 1.165797,
     "end_time": "2022-05-02T19:18:52.321023",
     "exception": false,
     "start_time": "2022-05-02T19:18:51.155226",
     "status": "completed"
    },
    "tags": []
   },
   "outputs": [
    {
     "data": {
      "text/plain": [
       "age               int64\n",
       "workclass         int64\n",
       "fnlwgt            int64\n",
       "education         int64\n",
       "education.num     int64\n",
       "marital.status    int64\n",
       "occupation        int64\n",
       "relationship      int64\n",
       "race              int64\n",
       "sex               int64\n",
       "capital.gain      int64\n",
       "capital.loss      int64\n",
       "hours.per.week    int64\n",
       "native.country    int64\n",
       "income            int64\n",
       "dtype: object"
      ]
     },
     "execution_count": 10,
     "metadata": {},
     "output_type": "execute_result"
    }
   ],
   "source": [
    "from sklearn.preprocessing import LabelEncoder\n",
    "for col in data.columns:\n",
    "    if data[col].dtypes == 'object':\n",
    "        le = LabelEncoder()\n",
    "        data[col] = le.fit_transform(data[col].astype(str))\n",
    "        \n",
    "data.dtypes"
   ]
  },
  {
   "cell_type": "code",
   "execution_count": 11,
   "id": "793e4ee1",
   "metadata": {
    "execution": {
     "iopub.execute_input": "2022-05-02T19:18:52.383329Z",
     "iopub.status.busy": "2022-05-02T19:18:52.383031Z",
     "iopub.status.idle": "2022-05-02T19:18:52.404407Z",
     "shell.execute_reply": "2022-05-02T19:18:52.403351Z"
    },
    "papermill": {
     "duration": 0.05494,
     "end_time": "2022-05-02T19:18:52.406511",
     "exception": false,
     "start_time": "2022-05-02T19:18:52.351571",
     "status": "completed"
    },
    "tags": []
   },
   "outputs": [
    {
     "name": "stdout",
     "output_type": "stream",
     "text": [
      "       age  workclass  fnlwgt  education  education.num  marital.status  \\\n",
      "0       90          3   77053         11              9               6   \n",
      "1       82          3  132870         11              9               6   \n",
      "2       66          3  186061         15             10               6   \n",
      "3       54          3  140359          5              4               0   \n",
      "4       41          3  264663         15             10               5   \n",
      "...    ...        ...     ...        ...            ...             ...   \n",
      "32556   22          3  310152         15             10               4   \n",
      "32557   27          3  257302          7             12               2   \n",
      "32558   40          3  154374         11              9               2   \n",
      "32559   58          3  151910         11              9               6   \n",
      "32560   22          3  201490         11              9               4   \n",
      "\n",
      "       occupation  relationship  race  sex  capital.gain  capital.loss  \\\n",
      "0               9             1     4    0             0          4356   \n",
      "1               3             1     4    0             0          4356   \n",
      "2               9             4     2    0             0          4356   \n",
      "3               6             4     4    0             0          3900   \n",
      "4               9             3     4    0             0          3900   \n",
      "...           ...           ...   ...  ...           ...           ...   \n",
      "32556          10             1     4    1             0             0   \n",
      "32557          12             5     4    0             0             0   \n",
      "32558           6             0     4    1             0             0   \n",
      "32559           0             4     4    0             0             0   \n",
      "32560           0             3     4    1             0             0   \n",
      "\n",
      "       hours.per.week  native.country  \n",
      "0                  40              38  \n",
      "1                  18              38  \n",
      "2                  40              38  \n",
      "3                  40              38  \n",
      "4                  40              38  \n",
      "...               ...             ...  \n",
      "32556              40              38  \n",
      "32557              38              38  \n",
      "32558              40              38  \n",
      "32559              40              38  \n",
      "32560              20              38  \n",
      "\n",
      "[32561 rows x 14 columns]\n",
      "0        0\n",
      "1        0\n",
      "2        0\n",
      "3        0\n",
      "4        0\n",
      "        ..\n",
      "32556    0\n",
      "32557    0\n",
      "32558    1\n",
      "32559    0\n",
      "32560    0\n",
      "Name: income, Length: 32561, dtype: int64\n"
     ]
    }
   ],
   "source": [
    "X = data.drop(['income'],axis = 1)\n",
    "y = data['income']\n",
    "print(X)\n",
    "print(y)"
   ]
  },
  {
   "cell_type": "code",
   "execution_count": 12,
   "id": "080f89bc",
   "metadata": {
    "execution": {
     "iopub.execute_input": "2022-05-02T19:18:52.469251Z",
     "iopub.status.busy": "2022-05-02T19:18:52.468764Z",
     "iopub.status.idle": "2022-05-02T19:18:52.542625Z",
     "shell.execute_reply": "2022-05-02T19:18:52.541349Z"
    },
    "papermill": {
     "duration": 0.108068,
     "end_time": "2022-05-02T19:18:52.545363",
     "exception": false,
     "start_time": "2022-05-02T19:18:52.437295",
     "status": "completed"
    },
    "tags": []
   },
   "outputs": [],
   "source": [
    "from sklearn.model_selection import train_test_split\n",
    "X_train, X_test, y_train, y_test = train_test_split(X,y,test_size=0.2, random_state = 42)"
   ]
  },
  {
   "cell_type": "code",
   "execution_count": 13,
   "id": "4a4ff6b5",
   "metadata": {
    "execution": {
     "iopub.execute_input": "2022-05-02T19:18:52.609944Z",
     "iopub.status.busy": "2022-05-02T19:18:52.609596Z",
     "iopub.status.idle": "2022-05-02T19:18:52.633460Z",
     "shell.execute_reply": "2022-05-02T19:18:52.632621Z"
    },
    "papermill": {
     "duration": 0.05912,
     "end_time": "2022-05-02T19:18:52.636062",
     "exception": false,
     "start_time": "2022-05-02T19:18:52.576942",
     "status": "completed"
    },
    "tags": []
   },
   "outputs": [],
   "source": [
    "from sklearn.preprocessing import StandardScaler\n",
    "sc = StandardScaler()\n",
    "X_train = sc.fit_transform(X_train)\n",
    "X_test = sc.transform(X_test)"
   ]
  },
  {
   "cell_type": "markdown",
   "id": "f7960da7",
   "metadata": {
    "papermill": {
     "duration": 0.030481,
     "end_time": "2022-05-02T19:18:52.697581",
     "exception": false,
     "start_time": "2022-05-02T19:18:52.667100",
     "status": "completed"
    },
    "tags": []
   },
   "source": [
    "# ***Logistic Regression***"
   ]
  },
  {
   "cell_type": "code",
   "execution_count": 14,
   "id": "f0801790",
   "metadata": {
    "execution": {
     "iopub.execute_input": "2022-05-02T19:18:52.760998Z",
     "iopub.status.busy": "2022-05-02T19:18:52.760632Z",
     "iopub.status.idle": "2022-05-02T19:18:52.918474Z",
     "shell.execute_reply": "2022-05-02T19:18:52.917235Z"
    },
    "papermill": {
     "duration": 0.194887,
     "end_time": "2022-05-02T19:18:52.923277",
     "exception": false,
     "start_time": "2022-05-02T19:18:52.728390",
     "status": "completed"
    },
    "tags": []
   },
   "outputs": [],
   "source": [
    "from sklearn.linear_model import LogisticRegression\n",
    "lr = LogisticRegression(random_state = 0)\n",
    "lr.fit(X_train, y_train)\n",
    "lr_pred = lr.predict(X_test)"
   ]
  },
  {
   "cell_type": "markdown",
   "id": "d6574311",
   "metadata": {
    "papermill": {
     "duration": 0.056942,
     "end_time": "2022-05-02T19:18:53.038750",
     "exception": false,
     "start_time": "2022-05-02T19:18:52.981808",
     "status": "completed"
    },
    "tags": []
   },
   "source": [
    "# ***SGD Classifier***"
   ]
  },
  {
   "cell_type": "code",
   "execution_count": 15,
   "id": "2a04880d",
   "metadata": {
    "execution": {
     "iopub.execute_input": "2022-05-02T19:18:53.103531Z",
     "iopub.status.busy": "2022-05-02T19:18:53.103198Z",
     "iopub.status.idle": "2022-05-02T19:18:53.155598Z",
     "shell.execute_reply": "2022-05-02T19:18:53.154451Z"
    },
    "papermill": {
     "duration": 0.089344,
     "end_time": "2022-05-02T19:18:53.159904",
     "exception": false,
     "start_time": "2022-05-02T19:18:53.070560",
     "status": "completed"
    },
    "tags": []
   },
   "outputs": [],
   "source": [
    "from sklearn.linear_model import SGDClassifier\n",
    "sgd = SGDClassifier(max_iter = 11, tol=None)\n",
    "sgd.fit(X_train, y_train)\n",
    "sgd_pred = sgd.predict(X_test)"
   ]
  },
  {
   "cell_type": "markdown",
   "id": "a9749ea5",
   "metadata": {
    "papermill": {
     "duration": 0.057279,
     "end_time": "2022-05-02T19:18:53.274126",
     "exception": false,
     "start_time": "2022-05-02T19:18:53.216847",
     "status": "completed"
    },
    "tags": []
   },
   "source": [
    "# ***Decision Tree Classifier***"
   ]
  },
  {
   "cell_type": "code",
   "execution_count": 16,
   "id": "e0a03e6c",
   "metadata": {
    "execution": {
     "iopub.execute_input": "2022-05-02T19:18:53.337120Z",
     "iopub.status.busy": "2022-05-02T19:18:53.336725Z",
     "iopub.status.idle": "2022-05-02T19:18:53.459661Z",
     "shell.execute_reply": "2022-05-02T19:18:53.458648Z"
    },
    "papermill": {
     "duration": 0.157893,
     "end_time": "2022-05-02T19:18:53.462548",
     "exception": false,
     "start_time": "2022-05-02T19:18:53.304655",
     "status": "completed"
    },
    "tags": []
   },
   "outputs": [],
   "source": [
    "from sklearn.tree import DecisionTreeClassifier\n",
    "dct = DecisionTreeClassifier(max_depth=2)\n",
    "dct.fit(X_train,y_train)\n",
    "dct_pred = dct.predict(X_test)"
   ]
  },
  {
   "cell_type": "markdown",
   "id": "0fec13d8",
   "metadata": {
    "papermill": {
     "duration": 0.031599,
     "end_time": "2022-05-02T19:18:53.525111",
     "exception": false,
     "start_time": "2022-05-02T19:18:53.493512",
     "status": "completed"
    },
    "tags": []
   },
   "source": [
    "# ***Random Forest Classifier***"
   ]
  },
  {
   "cell_type": "code",
   "execution_count": 17,
   "id": "ebcf0aa6",
   "metadata": {
    "execution": {
     "iopub.execute_input": "2022-05-02T19:18:53.588954Z",
     "iopub.status.busy": "2022-05-02T19:18:53.588529Z",
     "iopub.status.idle": "2022-05-02T19:18:55.255819Z",
     "shell.execute_reply": "2022-05-02T19:18:55.255194Z"
    },
    "papermill": {
     "duration": 1.702356,
     "end_time": "2022-05-02T19:18:55.258050",
     "exception": false,
     "start_time": "2022-05-02T19:18:53.555694",
     "status": "completed"
    },
    "tags": []
   },
   "outputs": [],
   "source": [
    "from sklearn.ensemble import RandomForestClassifier\n",
    "rd = RandomForestClassifier(n_estimators= 101, n_jobs=-1)\n",
    "rd.fit(X_train,y_train)\n",
    "rd_pred = rd.predict(X_test)"
   ]
  },
  {
   "cell_type": "markdown",
   "id": "8bb14c16",
   "metadata": {
    "papermill": {
     "duration": 0.029508,
     "end_time": "2022-05-02T19:18:55.317664",
     "exception": false,
     "start_time": "2022-05-02T19:18:55.288156",
     "status": "completed"
    },
    "tags": []
   },
   "source": [
    "# ***K Neighbors Classifier***"
   ]
  },
  {
   "cell_type": "code",
   "execution_count": 18,
   "id": "5f56a28a",
   "metadata": {
    "execution": {
     "iopub.execute_input": "2022-05-02T19:18:55.378539Z",
     "iopub.status.busy": "2022-05-02T19:18:55.378258Z",
     "iopub.status.idle": "2022-05-02T19:18:57.878030Z",
     "shell.execute_reply": "2022-05-02T19:18:57.877364Z"
    },
    "papermill": {
     "duration": 2.532915,
     "end_time": "2022-05-02T19:18:57.880247",
     "exception": false,
     "start_time": "2022-05-02T19:18:55.347332",
     "status": "completed"
    },
    "tags": []
   },
   "outputs": [],
   "source": [
    "from sklearn.neighbors import KNeighborsClassifier\n",
    "knn = KNeighborsClassifier(n_neighbors = 3)\n",
    "knn.fit(X_train,y_train)\n",
    "knn_pred = knn.predict(X_test)"
   ]
  },
  {
   "cell_type": "markdown",
   "id": "e9090eef",
   "metadata": {
    "papermill": {
     "duration": 0.029716,
     "end_time": "2022-05-02T19:18:57.941486",
     "exception": false,
     "start_time": "2022-05-02T19:18:57.911770",
     "status": "completed"
    },
    "tags": []
   },
   "source": [
    "> > # ***Calculating the accuracy score for the above models***"
   ]
  },
  {
   "cell_type": "code",
   "execution_count": 19,
   "id": "72f01707",
   "metadata": {
    "execution": {
     "iopub.execute_input": "2022-05-02T19:18:58.004522Z",
     "iopub.status.busy": "2022-05-02T19:18:58.003981Z",
     "iopub.status.idle": "2022-05-02T19:18:58.024788Z",
     "shell.execute_reply": "2022-05-02T19:18:58.024118Z"
    },
    "papermill": {
     "duration": 0.05555,
     "end_time": "2022-05-02T19:18:58.027057",
     "exception": false,
     "start_time": "2022-05-02T19:18:57.971507",
     "status": "completed"
    },
    "tags": []
   },
   "outputs": [],
   "source": [
    "from sklearn.metrics import confusion_matrix, accuracy_score\n",
    "ac_lr = round(accuracy_score(y_test, lr_pred)*100,2)\n",
    "ac_sgd = round(accuracy_score(y_test, sgd_pred)*100,2)\n",
    "ac_dct = round(accuracy_score(y_test, dct_pred)*100,2)\n",
    "ac_rd = round(accuracy_score(y_test, rd_pred)*100,2)\n",
    "ac_knn = round(accuracy_score(y_test, knn_pred)*100,2)\n",
    "########################################################################\n",
    "\n",
    "cm_lr = confusion_matrix(y_test, lr_pred)\n",
    "cm_sgd = confusion_matrix(y_test, sgd_pred)\n",
    "cm_dct = confusion_matrix(y_test, dct_pred)\n",
    "cm_rd = confusion_matrix(y_test, rd_pred)\n",
    "cm_knn = confusion_matrix(y_test, knn_pred)"
   ]
  },
  {
   "cell_type": "code",
   "execution_count": 20,
   "id": "23518182",
   "metadata": {
    "execution": {
     "iopub.execute_input": "2022-05-02T19:18:58.090589Z",
     "iopub.status.busy": "2022-05-02T19:18:58.090287Z",
     "iopub.status.idle": "2022-05-02T19:18:58.110850Z",
     "shell.execute_reply": "2022-05-02T19:18:58.110024Z"
    },
    "papermill": {
     "duration": 0.054257,
     "end_time": "2022-05-02T19:18:58.112718",
     "exception": false,
     "start_time": "2022-05-02T19:18:58.058461",
     "status": "completed"
    },
    "tags": []
   },
   "outputs": [
    {
     "data": {
      "text/html": [
       "<div>\n",
       "<style scoped>\n",
       "    .dataframe tbody tr th:only-of-type {\n",
       "        vertical-align: middle;\n",
       "    }\n",
       "\n",
       "    .dataframe tbody tr th {\n",
       "        vertical-align: top;\n",
       "    }\n",
       "\n",
       "    .dataframe thead th {\n",
       "        text-align: right;\n",
       "    }\n",
       "</style>\n",
       "<table border=\"1\" class=\"dataframe\">\n",
       "  <thead>\n",
       "    <tr style=\"text-align: right;\">\n",
       "      <th></th>\n",
       "      <th>Accuracy</th>\n",
       "      <th>Confusion_Matrix</th>\n",
       "    </tr>\n",
       "    <tr>\n",
       "      <th>Model</th>\n",
       "      <th></th>\n",
       "      <th></th>\n",
       "    </tr>\n",
       "  </thead>\n",
       "  <tbody>\n",
       "    <tr>\n",
       "      <th>Random Forest</th>\n",
       "      <td>85.48</td>\n",
       "      <td>[[4622, 354], [592, 945]]</td>\n",
       "    </tr>\n",
       "    <tr>\n",
       "      <th>Stochastic Gradient Decent</th>\n",
       "      <td>82.45</td>\n",
       "      <td>[[4673, 303], [840, 697]]</td>\n",
       "    </tr>\n",
       "    <tr>\n",
       "      <th>Logistic Regression</th>\n",
       "      <td>82.39</td>\n",
       "      <td>[[4686, 290], [857, 680]]</td>\n",
       "    </tr>\n",
       "    <tr>\n",
       "      <th>Decision Tree</th>\n",
       "      <td>82.39</td>\n",
       "      <td>[[4754, 222], [925, 612]]</td>\n",
       "    </tr>\n",
       "    <tr>\n",
       "      <th>KNN</th>\n",
       "      <td>82.20</td>\n",
       "      <td>[[4461, 515], [644, 893]]</td>\n",
       "    </tr>\n",
       "  </tbody>\n",
       "</table>\n",
       "</div>"
      ],
      "text/plain": [
       "                            Accuracy           Confusion_Matrix\n",
       "Model                                                          \n",
       "Random Forest                  85.48  [[4622, 354], [592, 945]]\n",
       "Stochastic Gradient Decent     82.45  [[4673, 303], [840, 697]]\n",
       "Logistic Regression            82.39  [[4686, 290], [857, 680]]\n",
       "Decision Tree                  82.39  [[4754, 222], [925, 612]]\n",
       "KNN                            82.20  [[4461, 515], [644, 893]]"
      ]
     },
     "execution_count": 20,
     "metadata": {},
     "output_type": "execute_result"
    }
   ],
   "source": [
    "results = pd.DataFrame({\n",
    "    'Model': ['Logistic Regression','Stochastic Gradient Decent','Decision Tree','Random Forest',  \n",
    "              'KNN'],\n",
    "    'Accuracy': [ac_lr,ac_sgd,ac_dct,ac_rd,ac_knn],\n",
    "    'Confusion_Matrix':[cm_lr,cm_sgd,cm_dct,cm_rd,cm_knn]})                \n",
    "result_df = results.sort_values(by='Accuracy', ascending=False)\n",
    "result_df = result_df.set_index('Model')\n",
    "result_df.head(5)"
   ]
  },
  {
   "cell_type": "code",
   "execution_count": null,
   "id": "522d80c6",
   "metadata": {
    "papermill": {
     "duration": 0.030117,
     "end_time": "2022-05-02T19:18:58.172986",
     "exception": false,
     "start_time": "2022-05-02T19:18:58.142869",
     "status": "completed"
    },
    "tags": []
   },
   "outputs": [],
   "source": []
  }
 ],
 "metadata": {
  "kernelspec": {
   "display_name": "Python 3",
   "language": "python",
   "name": "python3"
  },
  "language_info": {
   "codemirror_mode": {
    "name": "ipython",
    "version": 3
   },
   "file_extension": ".py",
   "mimetype": "text/x-python",
   "name": "python",
   "nbconvert_exporter": "python",
   "pygments_lexer": "ipython3",
   "version": "3.9.1"
  },
  "papermill": {
   "default_parameters": {},
   "duration": 19.344566,
   "end_time": "2022-05-02T19:18:59.026410",
   "environment_variables": {},
   "exception": null,
   "input_path": "__notebook__.ipynb",
   "output_path": "__notebook__.ipynb",
   "parameters": {},
   "start_time": "2022-05-02T19:18:39.681844",
   "version": "2.3.4"
  }
 },
 "nbformat": 4,
 "nbformat_minor": 5
}
